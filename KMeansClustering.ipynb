{
  "nbformat": 4,
  "nbformat_minor": 0,
  "metadata": {
    "anaconda-cloud": {},
    "kernelspec": {
      "display_name": "Python 3",
      "language": "python",
      "name": "python3"
    },
    "language_info": {
      "codemirror_mode": {
        "name": "ipython",
        "version": 3
      },
      "file_extension": ".py",
      "mimetype": "text/x-python",
      "name": "python",
      "nbconvert_exporter": "python",
      "pygments_lexer": "ipython3",
      "version": "3.5.5"
    },
    "colab": {
      "provenance": []
    }
  },
  "cells": [
    {
      "cell_type": "markdown",
      "metadata": {
        "id": "EGNl9u_WAdqx"
      },
      "source": [
        "# K-means Clustering Algorithm\n",
        "\n",
        "You will implement the K-means unsupervised learning algorithm.\n",
        "\n",
        "Use the simplified Iris dataset provided to test your code.\n",
        "\n",
        "Column 1: sepal length.\n",
        "Column 2: sepal width   \n"
      ]
    },
    {
      "cell_type": "code",
      "metadata": {
        "id": "NkmBxlIAAdq4"
      },
      "source": [
        "import numpy as np\n",
        "import pandas as pd\n",
        "from copy import deepcopy\n",
        "from matplotlib import pyplot as plt\n"
      ],
      "execution_count": null,
      "outputs": []
    },
    {
      "cell_type": "code",
      "source": [
        "# Ploting clustering results in colors\n",
        "def plot_clusters(X, clusters, centroids):\n",
        "    colors = ['r', 'g', 'b', 'y', 'c', 'm']\n",
        "    k,_ = np.shape(centroids)\n",
        "\n",
        "    fig, ax = plt.subplots()\n",
        "    for i in range(k):\n",
        "        points = np.array([X[j] for j in range(len(X)) if clusters[j] == i])\n",
        "        plt.scatter(points[:, 0], points[:, 1], s=7, c=colors[i])\n",
        "\n",
        "    plt.scatter(centroids[:,0], centroids[:,1], marker='*', s=150, c='y')"
      ],
      "metadata": {
        "id": "4IZgzlQHXOPl"
      },
      "execution_count": null,
      "outputs": []
    },
    {
      "cell_type": "markdown",
      "source": [
        "# K-means algorithm"
      ],
      "metadata": {
        "id": "sTeu3L1bKbWM"
      }
    },
    {
      "cell_type": "code",
      "source": [
        "def kmeans(X):\n",
        "  k=2\n",
        "  N = len(X)\n",
        "  ctr1 = X[(np.random.randint(0,N)),:]   # Randomly select initial centroid 1\n",
        "  ctr2 = X[(np.random.randint(0,N)),:]   # Randomly select initial centroid 2\n",
        "\n",
        "  centroids = np.array(list(zip(ctr1, ctr2)), dtype=np.float32)  # Create an array of centroids for each cluster\n",
        "  clusters = np.zeros(len(X))   # Initialize the clusters\n",
        "\n",
        "  MAX_ITR = 100   # Define the maximum number of iterations\n",
        "  update = deepcopy(centroids)   # Deep copy the centroids array to update it later\n",
        "\n",
        "  for itr in range(MAX_ITR):\n",
        "    sum0 , sum1 = np.zeros(2) , np.zeros(2)\n",
        "    count0 , count1 = 0 , 0\n",
        "    for i in range(len(X)):\n",
        "      if np.linalg.norm(centroids[0]-X[i]) < np.linalg.norm(centroids[1]-X[i]):\n",
        "        clusters[i] = 0\n",
        "        sum0 = sum0 + X[i]\n",
        "        count0 += 1\n",
        "      else:\n",
        "        clusters[i] = 1\n",
        "        sum1 = sum1 + X[i]\n",
        "        count1 +=1\n",
        "\n",
        "    update[0][0] = sum0[0]/count0   # Calculate the new centroid for cluster 0\n",
        "    update[0][1] = sum0[1]/count0\n",
        "    update[1][0] = sum1[0]/count1   # Calculate the new centroid for cluster 1\n",
        "    update[1][1] = sum1[1]/count1\n",
        "\n",
        "    if np.linalg.norm(centroids[0]-update[0]) == 0 and np.linalg.norm(centroids[1]-update[1]) == 0:\n",
        "      break   # Break out of the loop if the centroids do not change anymore\n",
        "    else:\n",
        "      centroids[0] = update[0]   # Update the centroids array with the new centroid positions\n",
        "      centroids[1] = update[1]\n",
        "\n",
        "  print('Algorithm converges after {} iterations'. format(itr))   # Print the number of iterations taken to converge\n",
        "  return clusters, centroids   # Return the cluster assignments and centroids"
      ],
      "metadata": {
        "id": "CxpDB3kpKatz"
      },
      "execution_count": null,
      "outputs": []
    },
    {
      "cell_type": "code",
      "source": [
        "# from google.colab import drive\n",
        "# drive.mount('/content/drive')\n",
        "\n",
        "directory_path = '/content/drive/MyDrive/Colab Notebooks/hw6/'\n",
        "df = pd.read_csv(directory_path+\"simple_iris_dataset.csv\")\n",
        "\n",
        "df1 = df['sepal_length'].values\n",
        "df2 = df['sepal_width'].values\n",
        "X = np.array(list(zip(df1, df2)))   # 100 x 2\n",
        "plt.scatter(df1, df2, c='black', s=7)\n",
        "\n",
        "clusters, centroids = kmeans(X)\n",
        "\n",
        "plot_clusters(X, clusters, centroids)\n"
      ],
      "metadata": {
        "colab": {
          "base_uri": "https://localhost:8080/",
          "height": 883
        },
        "id": "fjNr8M46T49j",
        "outputId": "6e206d99-43bf-4bfe-b711-535d1bb511fe"
      },
      "execution_count": null,
      "outputs": [
        {
          "output_type": "stream",
          "name": "stdout",
          "text": [
            "Mounted at /content/drive\n",
            "Algorithm converges after 6 iterations\n"
          ]
        },
        {
          "output_type": "display_data",
          "data": {
            "text/plain": [
              "<Figure size 640x480 with 1 Axes>"
            ],
            "image/png": "[encoded data removed]"
          },
          "metadata": {}
        },
        {
          "output_type": "display_data",
          "data": {
            "text/plain": [
              "<Figure size 640x480 with 1 Axes>"
            ],
            "image/png": "[encoded data removed]"
          },
          "metadata": {}
        }
      ]
    },
    {
      "cell_type": "code",
      "source": [],
      "metadata": {
        "id": "otWu2GZZAoQM"
      },
      "execution_count": null,
      "outputs": []
    }
  ]
}