{
  "nbformat": 4,
  "nbformat_minor": 0,
  "metadata": {
    "colab": {
      "provenance": []
    },
    "kernelspec": {
      "name": "python3",
      "display_name": "Python 3"
    },
    "gpuClass": "standard"
  },
  "cells": [
    {
      "cell_type": "markdown",
      "metadata": {
        "id": "ml58PJ9UDwRk"
      },
      "source": [
        "## Setup\n",
        "**Linear Discriminant Analysis**\n",
        "\n",
        "You will implement dimensionality reduction with LDA.  \n",
        "\n",
        "1). Read iris_dataset.csv (4 features, hence 4 PCs) and remove the first class\n",
        "\n",
        "2). Find the LDA components\n",
        "\n",
        "3). Recontruct the dataset (X_hat)\n",
        "\n",
        "4). Determine the accuracy of X_hat for 1-4 PCs using a LBF SVM classifier (provided)\n"
      ]
    },
    {
      "cell_type": "code",
      "metadata": {
        "id": "b3DA-QxT0O6X",
        "colab": {
          "base_uri": "https://localhost:8080/"
        },
        "outputId": "0da56573-80e7-4490-d351-9ae9f466a99f"
      },
      "source": [
        "import numpy as np\n",
        "import pandas as pd\n",
        "from numpy import linalg as LA\n",
        "import matplotlib.pyplot as plt\n",
        "from sklearn.svm import SVC # This package will help you run the SVM model directly\n",
        "from sklearn.metrics import accuracy_score # Use accruacy_score to find out accuracy of your model\n",
        "from sklearn.model_selection import train_test_split\n",
        "\n",
        "from google.colab import drive\n",
        "\n",
        "drive.mount('/content/drive')\n",
        "\n",
        "file_path = '/content/drive/MyDrive/Colab Notebooks/HW7/iris_dataset.csv'\n",
        "\n",
        "# Load data - 150 observations, 4 features, 3 classes\n",
        "df = pd.read_csv(file_path, header=None)\n",
        "data = df.values\n",
        "\n",
        "# Remove the first class and change the class index\n",
        "X_raw = data[50:,0:4]               # From 150 to 100 samples\n",
        "y = (np.rint(np.subtract(data[50:,4],2))).astype(int) # From class 2/3 to class 0/1"
      ],
      "execution_count": null,
      "outputs": [
        {
          "output_type": "stream",
          "name": "stdout",
          "text": [
            "Drive already mounted at /content/drive; to attempt to forcibly remount, call drive.mount(\"/content/drive\", force_remount=True).\n"
          ]
        }
      ]
    },
    {
      "cell_type": "markdown",
      "source": [
        "SVM classifier (with 20% of the data as the test sets)"
      ],
      "metadata": {
        "id": "9lOKaQBPeZ_D"
      }
    },
    {
      "cell_type": "code",
      "source": [
        "def svm_accuracy(X_hat, y, num_pc):\n",
        "    X_train, X_test, y_train, y_test = train_test_split(X_hat, y, test_size=0.2)\n",
        "\n",
        "    clf = SVC(kernel='linear') # Use the linear function of the SVM algorithm\n",
        "    clf.fit(X_train,y_train) # Train the model using the x_train and y_train\n",
        "    y_pred = clf.predict(X_test) # Run prediction after training on the testing dataset\n",
        "    print(num_pc, accuracy_score(y_test,y_pred)) # Print your final accuracy\n",
        "    return accuracy_score(y_test,y_pred)"
      ],
      "metadata": {
        "id": "osNzDZmuhZ7o"
      },
      "execution_count": null,
      "outputs": []
    },
    {
      "cell_type": "markdown",
      "source": [
        "LDA (Your code goes here)"
      ],
      "metadata": {
        "id": "9hIH0w1xe6mc"
      }
    },
    {
      "cell_type": "code",
      "source": [
        "def LDA(X, y, Num_PC):\n",
        "\n",
        "  dim = len(X[0])\n",
        "  sum = np.zeros((2,dim))\n",
        "  means = np.zeros((2,dim))\n",
        "  count = np.zeros(2)\n",
        "  Sw = np.zeros((dim,dim))\n",
        "\n",
        "  for i in range(len(y)):\n",
        "    sum[y[i]] += X[i]\n",
        "    count[y[i]] +=1\n",
        "  means[0] = np.divide(sum[0],count[0])\n",
        "  means[1] = np.divide(sum[1],count[1])\n",
        "\n",
        "  Sw = np.zeros((dim,dim))\n",
        "\n",
        "  for i in range(len(y)):\n",
        "    diff = X[i]-means[y[i]]\n",
        "    Sw += np.outer(diff, diff)\n",
        "\n",
        "  diff = means[0]-means[1]\n",
        "  Sb = np.outer(diff, diff)\n",
        "\n",
        "  Fisher = LA.pinv(Sw) @ Sb\n",
        "  print (\"Fisher=\", Fisher)\n",
        "  eigen_values, eigen_vectors = LA.eig(Fisher)\n",
        "\n",
        "  sorted_index = np.argsort(eigen_values)[::-1]\n",
        "  sorted_eigenvalue = eigen_values[sorted_index]\n",
        "\n",
        "  sorted_eigenvectors = eigen_vectors[:,sorted_index]\n",
        "\n",
        "  eigenvector_subset = sorted_eigenvectors[:,0:Num_PC]\n",
        "\n",
        "  X_reduced = np.dot(X, eigenvector_subset)\n",
        "\n",
        "  return X_reduced"
      ],
      "metadata": {
        "id": "vYl3DwfTmAsg"
      },
      "execution_count": null,
      "outputs": []
    },
    {
      "cell_type": "code",
      "metadata": {
        "id": "O-L8WvJIAKeY",
        "colab": {
          "base_uri": "https://localhost:8080/",
          "height": 1000
        },
        "outputId": "d5e00212-b92e-43cc-bce6-bd86cd8a0eb5"
      },
      "source": [
        "u = [np.mean(X_raw[:,0]), np.mean(X_raw[:,1]), np.mean(X_raw[:,2]), np.mean(X_raw[:,3])]\n",
        "XM = np.subtract(X_raw,u)  # Subtracting the mean from each feature\n",
        "\n",
        "X_lda = LDA(XM, y, 2)  # Applying LDA with 2 components\n",
        "\n",
        "plt.figure(figsize=(8,6))\n",
        "plt.scatter(X_lda[0:50,0], X_lda[0:50,1], color='green', marker='o', label='0')\n",
        "\n",
        "# Scatter plot for class 1\n",
        "plt.scatter(X_lda[50:100,0], X_lda[50:100,1], color='blue', marker='s', label='1')\n",
        "\n",
        "plt.title(\"LDA components plot for IRIS Dataset\", fontsize=14)\n",
        "plt.legend()\n",
        "plt.show()\n",
        "\n",
        "avg_accuracy_list = []\n",
        "\n",
        "for i in range(4):\n",
        "  num_pc = i+1\n",
        "  X_hat = LDA(XM, y, num_pc)\n",
        "  avg_accuracy = 0\n",
        "  for r in range(10):\n",
        "    avg_accuracy += svm_accuracy(X_hat, y, num_pc)\n",
        "\n",
        "  avg_accuracy_list.append(avg_accuracy/10)\n",
        "  print(\"Average accuracy\", avg_accuracy/10)"
      ],
      "execution_count": null,
      "outputs": [
        {
          "output_type": "stream",
          "name": "stdout",
          "text": [
            "Fisher= [[-0.0236603  -0.00740292 -0.04688513 -0.02540216]\n",
            " [-0.0371149  -0.01161264 -0.07354671 -0.03984729]\n",
            " [ 0.04637269  0.01450925  0.09189189  0.04978663]\n",
            " [ 0.08240509  0.02578319  0.16329352  0.08847172]]\n"
          ]
        },
        {
          "output_type": "display_data",
          "data": {
            "text/plain": [
              "<Figure size 800x600 with 1 Axes>"
            ],
            "image/png": "[encoded data removed]"
          },
          "metadata": {}
        },
        {
          "output_type": "stream",
          "name": "stdout",
          "text": [
            "Fisher= [[-0.0236603  -0.00740292 -0.04688513 -0.02540216]\n",
            " [-0.0371149  -0.01161264 -0.07354671 -0.03984729]\n",
            " [ 0.04637269  0.01450925  0.09189189  0.04978663]\n",
            " [ 0.08240509  0.02578319  0.16329352  0.08847172]]\n",
            "1 1.0\n",
            "1 0.95\n",
            "1 0.95\n",
            "1 0.9\n",
            "1 1.0\n",
            "1 0.95\n",
            "1 0.95\n",
            "1 1.0\n",
            "1 1.0\n",
            "1 1.0\n",
            "Average accuracy 0.97\n",
            "Fisher= [[-0.0236603  -0.00740292 -0.04688513 -0.02540216]\n",
            " [-0.0371149  -0.01161264 -0.07354671 -0.03984729]\n",
            " [ 0.04637269  0.01450925  0.09189189  0.04978663]\n",
            " [ 0.08240509  0.02578319  0.16329352  0.08847172]]\n",
            "2 1.0\n",
            "2 1.0\n",
            "2 1.0\n",
            "2 1.0\n",
            "2 0.9\n",
            "2 1.0\n",
            "2 1.0\n",
            "2 0.9\n",
            "2 0.95\n",
            "2 0.95\n",
            "Average accuracy 0.97\n",
            "Fisher= [[-0.0236603  -0.00740292 -0.04688513 -0.02540216]\n",
            " [-0.0371149  -0.01161264 -0.07354671 -0.03984729]\n",
            " [ 0.04637269  0.01450925  0.09189189  0.04978663]\n",
            " [ 0.08240509  0.02578319  0.16329352  0.08847172]]\n",
            "3 1.0\n",
            "3 1.0\n",
            "3 1.0\n",
            "3 0.95\n",
            "3 0.9\n",
            "3 0.95\n",
            "3 1.0\n",
            "3 1.0\n",
            "3 0.95\n",
            "3 1.0\n",
            "Average accuracy 0.975\n",
            "Fisher= [[-0.0236603  -0.00740292 -0.04688513 -0.02540216]\n",
            " [-0.0371149  -0.01161264 -0.07354671 -0.03984729]\n",
            " [ 0.04637269  0.01450925  0.09189189  0.04978663]\n",
            " [ 0.08240509  0.02578319  0.16329352  0.08847172]]\n",
            "4 1.0\n",
            "4 0.9\n",
            "4 0.95\n",
            "4 1.0\n",
            "4 0.9\n",
            "4 0.95\n",
            "4 1.0\n",
            "4 1.0\n",
            "4 0.9\n",
            "4 1.0\n",
            "Average accuracy 0.96\n"
          ]
        }
      ]
    },
    {
      "cell_type": "code",
      "source": [
        "import matplotlib.pyplot as plt\n",
        "\n",
        "\n",
        "categories = ['PC1', 'PC2', 'PC3', 'PC4']\n",
        "\n",
        "plt.bar(categories, avg_accuracy_list, color='blue')\n",
        "plt.xlabel('Categories')\n",
        "plt.ylabel('Values')\n",
        "\n",
        "for i, value in enumerate(avg_accuracy_list):\n",
        "    plt.text(i, value + 0.02 , str(round(value*100)))\n",
        "\n",
        "plt.show()"
      ],
      "metadata": {
        "id": "oA1BEITGCGl2",
        "colab": {
          "base_uri": "https://localhost:8080/",
          "height": 450
        },
        "outputId": "f16f6bd1-4fe4-47fe-e5fb-029d0cc8ed5b"
      },
      "execution_count": null,
      "outputs": [
        {
          "output_type": "display_data",
          "data": {
            "text/plain": [
              "<Figure size 640x480 with 1 Axes>"
            ],
            "image/png": "[encoded data removed]"
          },
          "metadata": {}
        }
      ]
    },
    {
      "cell_type": "code",
      "source": [],
      "metadata": {
        "id": "IABMeGE8N9kJ"
      },
      "execution_count": null,
      "outputs": []
    }
  ]
}