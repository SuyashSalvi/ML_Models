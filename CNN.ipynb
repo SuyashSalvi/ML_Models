{
  "cells": [
    {
      "cell_type": "markdown",
      "metadata": {
        "id": "JmeTNIkv_U3J"
      },
      "source": [
        "# Simple CNN for MNIST\n"
      ]
    },
    {
      "cell_type": "markdown",
      "metadata": {
        "id": "D-xWqYId_U3M"
      },
      "source": [
        "## Setup"
      ]
    },
    {
      "cell_type": "code",
      "execution_count": null,
      "metadata": {
        "id": "Fx2kxhdh_U3N"
      },
      "outputs": [],
      "source": [
        "import numpy as np\n",
        "from tensorflow import keras\n",
        "from tensorflow.keras import layers"
      ]
    },
    {
      "cell_type": "markdown",
      "metadata": {
        "id": "dq6m6gFl_U3O"
      },
      "source": [
        "## Prepare the data"
      ]
    },
    {
      "cell_type": "code",
      "execution_count": null,
      "metadata": {
        "id": "50ZpbPVg_U3O",
        "colab": {
          "base_uri": "https://localhost:8080/"
        },
        "outputId": "803066c5-0faf-4b8e-c517-ad80e1e11d7e"
      },
      "outputs": [
        {
          "output_type": "stream",
          "name": "stdout",
          "text": [
            "Downloading data from https://storage.googleapis.com/tensorflow/tf-keras-datasets/mnist.npz\n",
            "11490434/11490434 [==============================] - 0s 0us/step\n",
            "x_train shape: (60000, 28, 28, 1)\n",
            "60000 train samples\n",
            "10000 test samples\n"
          ]
        }
      ],
      "source": [
        "# Model / data parameters\n",
        "num_classes = 10\n",
        "input_shape = (28, 28, 1)\n",
        "\n",
        "# Load the data and split it between train and test sets\n",
        "(x_train, y_train), (x_test, y_test) = keras.datasets.mnist.load_data()\n",
        "\n",
        "# Scale images to the [0, 1] range\n",
        "x_train = x_train.astype(\"float32\") / 255\n",
        "x_test = x_test.astype(\"float32\") / 255\n",
        "# Make sure images have shape (28, 28, 1)\n",
        "x_train = np.expand_dims(x_train, -1)\n",
        "x_test = np.expand_dims(x_test, -1)\n",
        "print(\"x_train shape:\", x_train.shape)\n",
        "print(x_train.shape[0], \"train samples\")\n",
        "print(x_test.shape[0], \"test samples\")\n",
        "\n",
        "\n",
        "# convert class vectors to binary class matrices\n",
        "y_train = keras.utils.to_categorical(y_train, num_classes)\n",
        "y_test = keras.utils.to_categorical(y_test, num_classes)"
      ]
    },
    {
      "cell_type": "markdown",
      "metadata": {
        "id": "cMBBjbgD_U3P"
      },
      "source": [
        "## Build the model"
      ]
    },
    {
      "cell_type": "code",
      "execution_count": null,
      "metadata": {
        "id": "iBoQzBB9_U3Q",
        "colab": {
          "base_uri": "https://localhost:8080/"
        },
        "outputId": "2f769599-df4a-400b-c06a-6e19638174b3"
      },
      "outputs": [
        {
          "output_type": "stream",
          "name": "stdout",
          "text": [
            "Model: \"sequential_1\"\n",
            "_________________________________________________________________\n",
            " Layer (type)                Output Shape              Param #   \n",
            "=================================================================\n",
            " conv2d_2 (Conv2D)           (None, 26, 26, 8)         80        \n",
            "                                                                 \n",
            " max_pooling2d_2 (MaxPoolin  (None, 13, 13, 8)         0         \n",
            " g2D)                                                            \n",
            "                                                                 \n",
            " conv2d_3 (Conv2D)           (None, 11, 11, 16)        1168      \n",
            "                                                                 \n",
            " max_pooling2d_3 (MaxPoolin  (None, 5, 5, 16)          0         \n",
            " g2D)                                                            \n",
            "                                                                 \n",
            " flatten_1 (Flatten)         (None, 400)               0         \n",
            "                                                                 \n",
            " dropout_1 (Dropout)         (None, 400)               0         \n",
            "                                                                 \n",
            " dense_1 (Dense)             (None, 10)                4010      \n",
            "                                                                 \n",
            "=================================================================\n",
            "Total params: 5258 (20.54 KB)\n",
            "Trainable params: 5258 (20.54 KB)\n",
            "Non-trainable params: 0 (0.00 Byte)\n",
            "_________________________________________________________________\n"
          ]
        }
      ],
      "source": [
        "model = keras.Sequential(\n",
        "    [\n",
        "        keras.Input(shape=input_shape),\n",
        "        layers.Conv2D(8, kernel_size=(3, 3), activation=\"relu\"),\n",
        "        layers.MaxPooling2D(pool_size=(2, 2)),\n",
        "        layers.Conv2D(16, kernel_size=(3, 3), activation=\"relu\"),\n",
        "        layers.MaxPooling2D(pool_size=(2, 2)),\n",
        "        layers.Flatten(),\n",
        "        layers.Dropout(0.5),\n",
        "        layers.Dense(num_classes, activation=\"softmax\"),\n",
        "    ]\n",
        ")\n",
        "\n",
        "model.summary()"
      ]
    },
    {
      "cell_type": "markdown",
      "metadata": {
        "id": "3_cFZMbv_U3Q"
      },
      "source": [
        "## Train the model"
      ]
    },
    {
      "cell_type": "code",
      "execution_count": null,
      "metadata": {
        "id": "96th78xc_U3R",
        "colab": {
          "base_uri": "https://localhost:8080/"
        },
        "outputId": "b22826dc-994e-4457-ed88-e97d392245b1"
      },
      "outputs": [
        {
          "output_type": "stream",
          "name": "stdout",
          "text": [
            "Epoch 1/15\n",
            "422/422 [==============================] - 16s 36ms/step - loss: 0.6736 - accuracy: 0.7854 - val_loss: 0.1698 - val_accuracy: 0.9568\n",
            "Epoch 2/15\n",
            "422/422 [==============================] - 16s 38ms/step - loss: 0.2615 - accuracy: 0.9208 - val_loss: 0.1213 - val_accuracy: 0.9678\n",
            "Epoch 3/15\n",
            "422/422 [==============================] - 15s 36ms/step - loss: 0.2128 - accuracy: 0.9347 - val_loss: 0.1022 - val_accuracy: 0.9725\n",
            "Epoch 4/15\n",
            "422/422 [==============================] - 16s 38ms/step - loss: 0.1862 - accuracy: 0.9423 - val_loss: 0.0905 - val_accuracy: 0.9753\n",
            "Epoch 5/15\n",
            "422/422 [==============================] - 15s 36ms/step - loss: 0.1671 - accuracy: 0.9492 - val_loss: 0.0798 - val_accuracy: 0.9798\n",
            "Epoch 6/15\n",
            "422/422 [==============================] - 15s 36ms/step - loss: 0.1572 - accuracy: 0.9527 - val_loss: 0.0747 - val_accuracy: 0.9795\n",
            "Epoch 7/15\n",
            "422/422 [==============================] - 16s 37ms/step - loss: 0.1470 - accuracy: 0.9549 - val_loss: 0.0728 - val_accuracy: 0.9812\n",
            "Epoch 8/15\n",
            "422/422 [==============================] - 17s 40ms/step - loss: 0.1425 - accuracy: 0.9568 - val_loss: 0.0676 - val_accuracy: 0.9830\n",
            "Epoch 9/15\n",
            "422/422 [==============================] - 16s 38ms/step - loss: 0.1386 - accuracy: 0.9580 - val_loss: 0.0660 - val_accuracy: 0.9833\n",
            "Epoch 10/15\n",
            "422/422 [==============================] - 15s 36ms/step - loss: 0.1319 - accuracy: 0.9598 - val_loss: 0.0614 - val_accuracy: 0.9840\n",
            "Epoch 11/15\n",
            "422/422 [==============================] - 15s 37ms/step - loss: 0.1283 - accuracy: 0.9596 - val_loss: 0.0598 - val_accuracy: 0.9837\n",
            "Epoch 12/15\n",
            "422/422 [==============================] - 16s 37ms/step - loss: 0.1283 - accuracy: 0.9609 - val_loss: 0.0636 - val_accuracy: 0.9830\n",
            "Epoch 13/15\n",
            "422/422 [==============================] - 15s 35ms/step - loss: 0.1224 - accuracy: 0.9619 - val_loss: 0.0568 - val_accuracy: 0.9847\n",
            "Epoch 14/15\n",
            "422/422 [==============================] - 16s 37ms/step - loss: 0.1201 - accuracy: 0.9632 - val_loss: 0.0547 - val_accuracy: 0.9847\n",
            "Epoch 15/15\n",
            "422/422 [==============================] - 16s 38ms/step - loss: 0.1191 - accuracy: 0.9632 - val_loss: 0.0530 - val_accuracy: 0.9860\n"
          ]
        },
        {
          "output_type": "execute_result",
          "data": {
            "text/plain": [
              "<keras.src.callbacks.History at 0x7a769546f760>"
            ]
          },
          "metadata": {},
          "execution_count": 5
        }
      ],
      "source": [
        "batch_size = 128  # Number of samples per gradient update\n",
        "epochs = 15  # Number of times to iterate over the entire training dataset\n",
        "\n",
        "# Configure the model for training\n",
        "model.compile(loss=\"categorical_crossentropy\", optimizer=\"adam\", metrics=[\"accuracy\"])\n",
        "\n",
        "# Train the model on the training data\n",
        "model.fit(x_train, y_train, batch_size=batch_size, epochs=epochs, validation_split=0.1)\n",
        "# x_train: input training data\n",
        "# y_train: target training data\n",
        "# batch_size: number of samples per gradient update\n",
        "# epochs: number of times to iterate over the entire training dataset\n",
        "# validation_split: the fraction of the training data to be used as validation data during training\n"
      ]
    },
    {
      "cell_type": "markdown",
      "metadata": {
        "id": "mN_ag1mj_U3R"
      },
      "source": [
        "## Evaluate the trained model"
      ]
    },
    {
      "cell_type": "code",
      "execution_count": null,
      "metadata": {
        "id": "0DyaKNs9_U3S",
        "colab": {
          "base_uri": "https://localhost:8080/"
        },
        "outputId": "b9759f0c-6436-4799-f62d-4fde4a0b7b03"
      },
      "outputs": [
        {
          "output_type": "stream",
          "name": "stdout",
          "text": [
            "Test accuracy: 0.9824000000953674\n"
          ]
        }
      ],
      "source": [
        "score = model.evaluate(x_test, y_test, verbose=0)\n",
        "print(\"Test accuracy:\", score[1])"
      ]
    },
    {
      "cell_type": "code",
      "source": [],
      "metadata": {
        "id": "MqhNIzExnHgx"
      },
      "execution_count": null,
      "outputs": []
    }
  ],
  "metadata": {
    "accelerator": "GPU",
    "colab": {
      "provenance": [],
      "gpuType": "T4"
    },
    "kernelspec": {
      "display_name": "Python 3",
      "language": "python",
      "name": "python3"
    },
    "language_info": {
      "codemirror_mode": {
        "name": "ipython",
        "version": 3
      },
      "file_extension": ".py",
      "mimetype": "text/x-python",
      "name": "python",
      "nbconvert_exporter": "python",
      "pygments_lexer": "ipython3",
      "version": "3.7.0"
    },
    "gpuClass": "standard"
  },
  "nbformat": 4,
  "nbformat_minor": 0
}