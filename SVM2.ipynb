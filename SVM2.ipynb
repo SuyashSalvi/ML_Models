{
  "nbformat": 4,
  "nbformat_minor": 0,
  "metadata": {
    "colab": {
      "provenance": [],
      "gpuType": "T4"
    },
    "kernelspec": {
      "name": "python3",
      "display_name": "Python 3"
    },
    "language_info": {
      "name": "python"
    },
    "accelerator": "GPU"
  },
  "cells": [
    {
      "cell_type": "code",
      "execution_count": null,
      "metadata": {
        "id": "59iG8-pHzxdA"
      },
      "outputs": [],
      "source": [
        "#@title This code implements the training of the support vector machine (SVM).\n",
        "\n",
        "from sklearn.svm import SVC # This package will help you run the direct SVM model\n",
        "from sklearn.metrics import accuracy_score # Use accruacy_score to find out accuracy of your model\n",
        "\n",
        "def svm_training(dataset, testing_dataset):\n",
        "    # Extract x_train, y_train from the training dataset\n",
        "    x_train = [row[:-1] for row in dataset]\n",
        "    y_train = [row[-1] for row in dataset]\n",
        "\n",
        "    # Extract x_test, y_test from the testing dataset\n",
        "    x_test = [row[:-1] for row in testing_dataset]\n",
        "    y_test = [row[-1] for row in testing_dataset]\n",
        "\n",
        "    # Use the linear function of the SVM algorithm\n",
        "    svm_model = SVC(kernel='linear')\n",
        "\n",
        "    # Train the model using x_train and y_train\n",
        "    svm_model.fit(x_train, y_train)\n",
        "\n",
        "    # Run prediction after training on the testing dataset\n",
        "    y_pred = svm_model.predict(x_test)\n",
        "\n",
        "    # Return the final accuracy\n",
        "    accuracy = accuracy_score(y_test, y_pred)\n",
        "    return accuracy"
      ]
    },
    {
      "cell_type": "markdown",
      "source": [],
      "metadata": {
        "id": "BMqpDVhQF6Ux"
      }
    },
    {
      "cell_type": "code",
      "source": [
        "def generate_samples(subset):\n",
        "\n",
        "    # Initilize the datasetsas\n",
        "    Sn = [] # List to store negative samples\n",
        "    Sp = [] # List to store positive samples\n",
        "    num_n = 0 # Counter for negative samples\n",
        "    num_p = 0 # Counter for positive samplesa\n",
        "\n",
        "    while len(Sp) < 20 or len(Sn) < 20:\n",
        "      i1, i2 = np.random.uniform(-5, 5, 2)\n",
        "      if i1 + i2 >= 0 and len(Sp) < 20:\n",
        "          Sp.append([i1, i2, 1])\n",
        "      elif i1 + i2 < 0 and len(Sn) < 20:\n",
        "          Sn.append([i1, i2, -1])\n",
        "\n",
        "    # Splitting samples into training and testing samples\n",
        "    testing_samples = Sp[10:] + Sn[10:]\n",
        "\n",
        "    # First split: subset of the samples used for training\n",
        "    training_samples = Sp[:subset] + Sn[:subset]\n",
        "\n",
        "    return training_samples, testing_samples"
      ],
      "metadata": {
        "id": "rxwTZXX6D-hW"
      },
      "execution_count": null,
      "outputs": []
    },
    {
      "cell_type": "code",
      "source": [
        "import numpy as np\n",
        "\n",
        "avg_acc_100 = []\n",
        "avg_acc_50 = []\n",
        "\n",
        "for _ in range(20):\n",
        "\n",
        "    # Using 100% of the training samples\n",
        "    training_data, testing_data = generate_samples(10)\n",
        "    accuracy_100 = svm_training(training_data, testing_data)  # Evaluating on training data\n",
        "    avg_acc_100.append(accuracy_100)\n",
        "\n",
        "    # Using 50% of the training samples\n",
        "    training_data, testing_data = generate_samples(5)\n",
        "    accuracy_50 = svm_training(training_data, testing_data)\n",
        "    avg_acc_50.append(accuracy_50)\n",
        "\n",
        "print(\"Average Accuracy (and standard deviation) using 100% training samples:\", np.mean(avg_acc_100), np.std(avg_acc_100))\n",
        "print(\"Average Accuracy (and standard deviation) using 50% training samples:\", np.mean(avg_acc_50), np.std(avg_acc_50))\n"
      ],
      "metadata": {
        "id": "CqyllsEiz643",
        "colab": {
          "base_uri": "https://localhost:8080/"
        },
        "outputId": "5c390458-f48e-463d-fc4c-ed565036a019"
      },
      "execution_count": null,
      "outputs": [
        {
          "output_type": "stream",
          "name": "stdout",
          "text": [
            "Average Accuracy (and standard deviation) using 100% training samples: 0.9350000000000002 0.061441028637222526\n",
            "Average Accuracy (and standard deviation) using 50% training samples: 0.9099999999999998 0.06999999999999998\n"
          ]
        }
      ]
    },
    {
      "cell_type": "code",
      "source": [
        "import pandas as pd\n",
        "\n",
        "# Create a dictionary with the provided data\n",
        "data = {\n",
        "    'Algorithm': ['SVM', 'SVM', 'PLA', 'PLA'],\n",
        "    'Percentage': ['100%', '50%', '100%', '50%'],\n",
        "    'Accuracy': [0.9350000000000002, 0.9099999999999998, 0.9574999999999999, 0.89],\n",
        "    'Std Deviation': [0.061441028637222526, 0.06999999999999998, 0.06179603547154137, 0.09165151389911678]\n",
        "}\n",
        "\n",
        "# Create a pandas DataFrame\n",
        "df = pd.DataFrame(data)\n",
        "\n",
        "# Display the DataFrame\n",
        "print(df)"
      ],
      "metadata": {
        "id": "XTbvEKAdmZ4-",
        "colab": {
          "base_uri": "https://localhost:8080/"
        },
        "outputId": "204869fa-0889-4575-d087-2292a6b8f778"
      },
      "execution_count": null,
      "outputs": [
        {
          "output_type": "stream",
          "name": "stdout",
          "text": [
            "  Algorithm Percentage  Accuracy  Std Deviation\n",
            "0       SVM       100%    0.9350       0.061441\n",
            "1       SVM        50%    0.9100       0.070000\n",
            "2       PLA       100%    0.9575       0.061796\n",
            "3       PLA        50%    0.8900       0.091652\n"
          ]
        }
      ]
    },
    {
      "cell_type": "code",
      "source": [],
      "metadata": {
        "id": "NriRwvq9InBU"
      },
      "execution_count": null,
      "outputs": []
    }
  ]
}