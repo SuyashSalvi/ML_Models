{
  "nbformat": 4,
  "nbformat_minor": 0,
  "metadata": {
    "colab": {
      "provenance": []
    },
    "kernelspec": {
      "name": "python3",
      "display_name": "Python 3"
    },
    "language_info": {
      "name": "python"
    }
  },
  "cells": [
    {
      "cell_type": "markdown",
      "source": [
        "#Install libsvm-official"
      ],
      "metadata": {
        "id": "4RkmxZ3VdKcQ"
      }
    },
    {
      "cell_type": "code",
      "source": [
        "!pip install -U libsvm-official"
      ],
      "metadata": {
        "colab": {
          "base_uri": "https://localhost:8080/"
        },
        "id": "Kaw0Et9Fn_X2",
        "outputId": "9e272886-ee3d-4886-c5c0-e2a25e5bb161"
      },
      "execution_count": null,
      "outputs": [
        {
          "output_type": "stream",
          "name": "stdout",
          "text": [
            "Requirement already satisfied: libsvm-official in /usr/local/lib/python3.10/dist-packages (3.32.0)\n",
            "Requirement already satisfied: scipy in /usr/local/lib/python3.10/dist-packages (from libsvm-official) (1.11.4)\n",
            "Requirement already satisfied: numpy<1.28.0,>=1.21.6 in /usr/local/lib/python3.10/dist-packages (from scipy->libsvm-official) (1.23.5)\n"
          ]
        }
      ]
    },
    {
      "cell_type": "markdown",
      "source": [
        "# Import necessary libraries"
      ],
      "metadata": {
        "id": "O33hs5-2dQ6p"
      }
    },
    {
      "cell_type": "code",
      "source": [
        "import numpy as np\n",
        "import scipy\n",
        "from libsvm.svmutil import *\n",
        "from google.colab import drive\n",
        "drive.mount('/content/drive')\n",
        "\n"
      ],
      "metadata": {
        "id": "b0tkTKM1dGDW",
        "colab": {
          "base_uri": "https://localhost:8080/"
        },
        "outputId": "4c0c0c21-151a-4301-e32c-900f94f47275"
      },
      "execution_count": null,
      "outputs": [
        {
          "output_type": "stream",
          "name": "stderr",
          "text": [
            "/usr/local/lib/python3.10/dist-packages/libsvm/svm.py:147: NumbaDeprecationWarning: The 'nopython' keyword argument was not supplied to the 'numba.jit' decorator. The implicit default value for this argument is currently False, but it will be changed to True in Numba 0.59.0. See https://numba.readthedocs.io/en/stable/reference/deprecation.html#deprecation-of-object-mode-fall-back-behaviour-when-using-jit for details.\n",
            "  def csr_to_problem_jit(l, x_val, x_ind, x_rowptr, prob_val, prob_ind, prob_rowptr, indx_start):\n"
          ]
        },
        {
          "output_type": "stream",
          "name": "stdout",
          "text": [
            "Drive already mounted at /content/drive; to attempt to forcibly remount, call drive.mount(\"/content/drive\", force_remount=True).\n"
          ]
        }
      ]
    },
    {
      "cell_type": "markdown",
      "source": [
        "#Part 1 of the main code\n",
        "Without scaling the dataset\n",
        "\n"
      ],
      "metadata": {
        "id": "cRk3IhAKdZk9"
      }
    },
    {
      "cell_type": "code",
      "source": [
        "%ls '/content/drive/My Drive/Colab Notebooks/'"
      ],
      "metadata": {
        "colab": {
          "base_uri": "https://localhost:8080/"
        },
        "id": "p0T71yRJo1g1",
        "outputId": "124510d0-2a66-4d6a-c17c-cd595c3b098a"
      },
      "execution_count": null,
      "outputs": [
        {
          "output_type": "stream",
          "name": "stdout",
          "text": [
            " bin_import_test.ipynb   HW1-6-final.ipynb   svmguide1         'Untitled (1)'    'Untitled (4)'\n",
            "'HW1-5-1 (1).ipynb'      HW1-6.ipynb         svmguide1.t        Untitled1.ipynb  'Untitled (5)'\n",
            " HW1-5-1.ipynb           HW2-7-final.ipynb   svmguide1.t.html  'Untitled (2)'    'Untitled (6)'\n",
            " HW1-5-final.ipynb       HW2-7.ipynb         Untitled           Untitled2.ipynb  'Untitled (7)'\n",
            "'HW1-6 (1).ipynb'        HW2-8.ipynb         Untitled0.ipynb   'Untitled (3)'\n"
          ]
        }
      ]
    },
    {
      "cell_type": "code",
      "source": [
        "from libsvm.svmutil import svm_read_problem, svm_train, svm_predict\n",
        "\n",
        "# Read the training data\n",
        "y_train, x_train = svm_read_problem('/content/drive/My Drive/Colab Notebooks/svmguide1', return_scipy=True)\n",
        "\n",
        "# Train an SVM model on the scaled data using RBF kernel\n",
        "model = svm_train(y_train, x_train, '-t 2 -g 2 -c 32')\n",
        "\n",
        "# Read the test data\n",
        "y_test, x_test = svm_read_problem('/content/drive/My Drive/Colab Notebooks/svmguide1.t', return_scipy=True)\n",
        "\n",
        "# Use the trained SVM model to predict labels for the test data\n",
        "p_label, p_acc, p_val = svm_predict(y_test, x_test, model)\n",
        "\n",
        "\n"
      ],
      "metadata": {
        "id": "GRI0VoC6ancP",
        "colab": {
          "base_uri": "https://localhost:8080/"
        },
        "outputId": "ceee4993-5de3-47f7-f71a-3973b743d214"
      },
      "execution_count": null,
      "outputs": [
        {
          "output_type": "stream",
          "name": "stdout",
          "text": [
            "Accuracy = 52.625% (2105/4000) (classification)\n"
          ]
        }
      ]
    },
    {
      "cell_type": "markdown",
      "source": [
        "#Part 2 of the main code\n",
        "\n",
        "With scaling the dataset"
      ],
      "metadata": {
        "id": "l9NHB3a2eV5k"
      }
    },
    {
      "cell_type": "code",
      "execution_count": null,
      "metadata": {
        "id": "o0TXvYQ2m5sC",
        "colab": {
          "base_uri": "https://localhost:8080/"
        },
        "outputId": "57389574-8d6e-4631-d54d-2beb11833888"
      },
      "outputs": [
        {
          "output_type": "stream",
          "name": "stderr",
          "text": [
            "WARNING: original #nonzeros 12319\n",
            "       > new      #nonzeros 12356\n",
            "If feature values are non-negative and sparse, get scale_param by setting lower=0 rather than the default lower=-1.\n",
            "WARNING: original #nonzeros 15985\n",
            "       > new      #nonzeros 16000\n",
            "If feature values are non-negative and sparse, get scale_param by setting lower=0 rather than the default lower=-1.\n"
          ]
        },
        {
          "output_type": "stream",
          "name": "stdout",
          "text": [
            "Accuracy = 97.075% (3883/4000) (classification)\n"
          ]
        }
      ],
      "source": [
        "y, x = svm_read_problem('/content/drive/My Drive/Colab Notebooks/svmguide1', return_scipy=True)\n",
        "\n",
        "scale_param = csr_find_scale_param(x)\n",
        "\n",
        "np.save('scale_param.npy', scale_param)\n",
        "\n",
        "scaled_x = csr_scale(x, scale_param)\n",
        "\n",
        "model = svm_train(y, scaled_x, '-t 2 -g 2 -c 32')\n",
        "\n",
        "ty, tx = svm_read_problem('/content/drive/My Drive/Colab Notebooks/svmguide1.t', return_scipy=True)\n",
        "\n",
        "scaled_test_x = csr_scale(tx, scale_param)\n",
        "\n",
        "p_label, p_acc, p_val = svm_predict(ty, scaled_test_x, model)\n"
      ]
    },
    {
      "cell_type": "markdown",
      "source": [
        "#Part 3 of the main code\n",
        "\n",
        "Testing different C"
      ],
      "metadata": {
        "id": "okwZF037zqAe"
      }
    },
    {
      "cell_type": "code",
      "execution_count": null,
      "metadata": {
        "id": "6E95CnOuzmtm",
        "colab": {
          "base_uri": "https://localhost:8080/"
        },
        "outputId": "dd1f2641-fa78-47cc-95fe-3fd882ae4865"
      },
      "outputs": [
        {
          "output_type": "stream",
          "name": "stderr",
          "text": [
            "WARNING: original #nonzeros 12319\n",
            "       > new      #nonzeros 12356\n",
            "If feature values are non-negative and sparse, get scale_param by setting lower=0 rather than the default lower=-1.\n",
            "WARNING: original #nonzeros 15985\n",
            "       > new      #nonzeros 16000\n",
            "If feature values are non-negative and sparse, get scale_param by setting lower=0 rather than the default lower=-1.\n"
          ]
        },
        {
          "output_type": "stream",
          "name": "stdout",
          "text": [
            "-t 2 -g 2 -c 2\n",
            "Accuracy on training data\n",
            "Accuracy = 97.1512% (3001/3089) (classification)\n",
            "Accuracy on testing data\n",
            "Accuracy = 96.875% (3875/4000) (classification)\n",
            "-t 2 -g 2 -c 8\n",
            "Accuracy on training data\n",
            "Accuracy = 97.2159% (3003/3089) (classification)\n",
            "Accuracy on testing data\n",
            "Accuracy = 96.95% (3878/4000) (classification)\n",
            "-t 2 -g 2 -c 32\n",
            "Accuracy on training data\n",
            "Accuracy = 97.5073% (3012/3089) (classification)\n",
            "Accuracy on testing data\n",
            "Accuracy = 97.075% (3883/4000) (classification)\n",
            "-t 2 -g 2 -c 128\n",
            "Accuracy on training data\n",
            "Accuracy = 97.6368% (3016/3089) (classification)\n",
            "Accuracy on testing data\n",
            "Accuracy = 96.625% (3865/4000) (classification)\n",
            "-t 2 -g 2 -c 512\n",
            "Accuracy on training data\n",
            "Accuracy = 97.7986% (3021/3089) (classification)\n",
            "Accuracy on testing data\n",
            "Accuracy = 96.375% (3855/4000) (classification)\n"
          ]
        }
      ],
      "source": [
        "y, x = svm_read_problem('/content/drive/My Drive/Colab Notebooks/svmguide1', return_scipy=True)\n",
        "\n",
        "scale_param = csr_find_scale_param(x)\n",
        "\n",
        "# Save the scale parameters for future use\n",
        "np.save('scale_param.npy', scale_param)\n",
        "\n",
        "# Scale the feature data using the computed scaling parameter\n",
        "scaled_x = csr_scale(x, scale_param)\n",
        "\n",
        "ty, tx = svm_read_problem('/content/drive/My Drive/Colab Notebooks/svmguide1.t', return_scipy=True)\n",
        "\n",
        "scaled_test_x = csr_scale(tx, scale_param)\n",
        "\n",
        "for c in range(0,5):\n",
        "  parameters='-t 2 -g 2 -c '+str(2**(2*c+1))\n",
        "  print (parameters)\n",
        "\n",
        "  model = svm_train(y.tolist(), scaled_x, parameters)\n",
        "\n",
        "  print (\"Accuracy on training data\")\n",
        "\n",
        "  p_label, p_acc, p_val = svm_predict(y, scaled_x, model)\n",
        "\n",
        "  print (\"Accuracy on testing data\")\n",
        "\n",
        "  p_label, p_acc, p_val = svm_predict(ty, scaled_test_x, model)\n"
      ]
    },
    {
      "cell_type": "code",
      "source": [],
      "metadata": {
        "id": "OG3ztGv37S5I"
      },
      "execution_count": null,
      "outputs": []
    }
  ]
}