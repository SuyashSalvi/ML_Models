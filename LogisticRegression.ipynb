{
  "cells": [
    {
      "cell_type": "markdown",
      "metadata": {
        "id": "VGDKqNGv1Rtx"
      },
      "source": [
        "# Logistic Regression\n",
        "\n",
        "You will implement logistic regression classifier.\n",
        "\n",
        "Iris dataset with only 2 classes is provided to test the code.\n"
      ]
    },
    {
      "cell_type": "code",
      "execution_count": null,
      "metadata": {
        "colab": {
          "base_uri": "https://localhost:8080/"
        },
        "id": "alBxk8lq1Rt4",
        "outputId": "171189d0-7258-4b25-f2d7-e360c30477c1"
      },
      "outputs": [
        {
          "output_type": "stream",
          "name": "stdout",
          "text": [
            "   sepal_width  sepal_length  petal_width  petal_length  class\n",
            "0          5.6           3.0          4.1           1.3      0\n",
            "1          5.4           3.9          1.7           0.4      1\n",
            "2          5.6           3.0          4.5           1.5      0\n",
            "3          5.0           3.5          1.6           0.6      1\n",
            "4          5.5           2.4          3.7           1.0      0\n"
          ]
        }
      ],
      "source": [
        "import numpy as np\n",
        "import pandas as pd\n",
        "import numpy.matlib\n",
        "import matplotlib.pyplot as plt\n",
        "# from google.colab import drive\n",
        "# drive.mount('/content/drive')\n",
        "\n",
        "directory_path = '/content/drive/MyDrive/Colab Notebooks/hw6/'\n",
        "\n",
        "# read dataset\n",
        "df = pd.read_csv(directory_path+\"shuffled_2class_iris_dataset.csv\")\n",
        "print(df.head())\n",
        "\n",
        "df = df.values\n",
        "X = df[:,0:4]   # 100x4\n",
        "y = df[:,4]     # 100x1\n"
      ]
    },
    {
      "cell_type": "code",
      "execution_count": null,
      "metadata": {
        "id": "uCmn7QBC1Rue",
        "scrolled": true
      },
      "outputs": [],
      "source": [
        "# Zero out the mean\n",
        "diff = X.max(0) - X.min(0)\n",
        "X = X - diff\n",
        "\n",
        "# Create 90/10 trainig/test sets\n",
        "train_data = X[0:90,0:4]; train_label = y[0:90]\n",
        "test_data = X[90:100,0:4]; test_label = y[90:100]\n",
        "\n",
        "zz = np.ones((len(test_data),1))\n",
        "test_data = np.concatenate((zz,test_data), axis=1)  # 90x5\n",
        "\n",
        "np.random.seed(1)"
      ]
    },
    {
      "cell_type": "markdown",
      "metadata": {
        "id": "XyMKJ1us1Ruv"
      },
      "source": [
        "### Training"
      ]
    },
    {
      "cell_type": "code",
      "execution_count": null,
      "metadata": {
        "colab": {
          "base_uri": "https://localhost:8080/",
          "height": 449
        },
        "id": "uw7RwLKT1Ruy",
        "outputId": "893f5241-0948-482a-f8e0-1a05e8522e64"
      },
      "outputs": [
        {
          "output_type": "display_data",
          "data": {
            "text/plain": [
              "<Figure size 640x480 with 1 Axes>"
            ],
            "image/png": "[encoded data removed]"
          },
          "metadata": {}
        }
      ],
      "source": [
        "# Use batch gradient descent to find the optimal weights of the sigmoid function\n",
        "\n",
        "# Define the sigmoid function using numpy.exp\n",
        "def sigmod(t):\n",
        "  return (1/(1+(np.exp(-t))))\n",
        "\n",
        "# Define the logistic regression inference function\n",
        "# It takes in a weight vector and a feature vector\n",
        "def lr_inferencing(w_vec, x_vec):\n",
        "  dot_product = np.sum(w_vec*x_vec)\n",
        "  predicted_y = sigmod(dot_product)\n",
        "  return predicted_y\n",
        "\n",
        "# Train the model using the training data\n",
        "\n",
        "# Initialization\n",
        "alpha = 0.01\n",
        "MAX_EPOCHS = 1500\n",
        "cost_history = []\n",
        "\n",
        "# Initialization of X_train and y_train\n",
        "zz = np.ones((len(train_data),1))\n",
        "X_train = np.concatenate((zz,train_data), axis=1)  # 90x5\n",
        "#   X_train is 90x5; the first column is all 1's\n",
        "#     1st feature of the first observation (1st row, 2nd column): X_train[0,1]\n",
        "#     4th feature of the second observation (2nd row, 4th column): X_train[1,4]\n",
        "y_train = train_label.reshape(len(train_label),1)  # 90x1\n",
        "#   y_train is 90x1\n",
        "#     the label of the first observation (1st row): y_train[0]\n",
        "#     the label of the seventh observation (7th row): y_train[6]\n",
        "\n",
        "# Initialization of weight_vector\n",
        "w_vec = np.random.rand(5)\n",
        "\n",
        "# Loop for 1500 epochs\n",
        "for itr in range (MAX_EPOCHS):\n",
        "\n",
        "    # Initialize gradient and cost to 0\n",
        "    gradient = np.zeros(5)\n",
        "    cost = 0\n",
        "\n",
        "    # Loop over the training data\n",
        "    for i in range(len(X_train)):\n",
        "        # Extract the features and label for the current training example\n",
        "        x_vec=X_train[i][0:5]\n",
        "        y=y_train[i]\n",
        "\n",
        "        # Use the current weights to predict the label for this example\n",
        "        predicted_y = lr_inferencing(w_vec, x_vec)\n",
        "\n",
        "        # To-Do\n",
        "        # Compute the gradient for this example and add it to the running total\n",
        "        gradient += np.multiply ((predicted_y-y), x_vec)\n",
        "\n",
        "        # To-Do\n",
        "        # Compute the cost for this example and add it to the running total\n",
        "        cost += - y*np.log(predicted_y) - (1-predicted_y)*np.log(1-predicted_y)\n",
        "\n",
        "    # Update the weights using the learning rate and the gradient\n",
        "    # To-Do\n",
        "    w_vec = w_vec - np.multiply (2*alpha, gradient)\n",
        "\n",
        "    # Collect the cost function result from each epoch to generate a plot\n",
        "    # Append the current cost to the history of costs\n",
        "    cost_history.append(cost) # 1500x1\n",
        "\n",
        "# Plot cost function vs iterations\n",
        "plt.plot(cost_history)\n",
        "plt.xlabel('Epochs')\n",
        "plt.ylabel('Error')\n",
        "plt.show()"
      ]
    },
    {
      "cell_type": "markdown",
      "metadata": {
        "id": "wrLm9qlX1RvE"
      },
      "source": [
        "### Testing"
      ]
    },
    {
      "cell_type": "code",
      "execution_count": null,
      "metadata": {
        "colab": {
          "base_uri": "https://localhost:8080/"
        },
        "id": "cJ3Z1ZHY1RvH",
        "outputId": "6e1b8ff3-2249-4dc5-8bf8-e2a2c8012d74"
      },
      "outputs": [
        {
          "output_type": "stream",
          "name": "stdout",
          "text": [
            "y=1.0, y_hat=1.0\n",
            "y=1.0, y_hat=1.0\n",
            "y=0.0, y_hat=0.0\n",
            "y=1.0, y_hat=1.0\n",
            "y=0.0, y_hat=0.0\n",
            "y=1.0, y_hat=1.0\n",
            "y=0.0, y_hat=0.0\n",
            "y=0.0, y_hat=0.0\n",
            "y=0.0, y_hat=0.0\n",
            "y=1.0, y_hat=1.0\n",
            "Average accuracy = 1.000000\n"
          ]
        }
      ],
      "source": [
        "# Print the actual and predicted class labels\n",
        "# Print the average accuracy\n",
        "\n",
        "correct_class_cnt = 0\n",
        "for i in range (len(test_data)):\n",
        "\n",
        "    # Compute the probability for each test data and optimal weights\n",
        "    # Find the predicted label y_hat based on threshold = 0.5\n",
        "    predicted_y = lr_inferencing(w_vec, test_data[i])\n",
        "    if predicted_y <0.5:\n",
        "        y_hat = 0.0\n",
        "    else:\n",
        "        y_hat = 1.0\n",
        "\n",
        "    # Check accuracy\n",
        "    print('y={}, y_hat={}'.format(test_label[i], y_hat))\n",
        "    if (y_hat == test_label[i]):\n",
        "        correct_class_cnt += 1\n",
        "\n",
        "print('Average accuracy = {0:2f}'.format(correct_class_cnt/10))\n"
      ]
    },
    {
      "cell_type": "markdown",
      "metadata": {
        "collapsed": true,
        "id": "IGDft1gb1RvW"
      },
      "source": [
        "Caution: accuracy may change drastically because of overfitting (data set too small)"
      ]
    },
    {
      "cell_type": "code",
      "execution_count": null,
      "metadata": {
        "colab": {
          "base_uri": "https://localhost:8080/"
        },
        "id": "JUhU1bEY1Rva",
        "outputId": "5fdb139c-a81c-4251-d5ef-e6f7c57e4ed1"
      },
      "outputs": [
        {
          "output_type": "stream",
          "name": "stdout",
          "text": [
            "[-1.16410104 -4.11394099  2.79975028 -5.23058508 -1.7609904 ]\n"
          ]
        }
      ],
      "source": [
        "# Print the optimal weights\n",
        "print(w_vec)"
      ]
    },
    {
      "cell_type": "code",
      "source": [],
      "metadata": {
        "id": "3HnQBbhg_IjX"
      },
      "execution_count": null,
      "outputs": []
    }
  ],
  "metadata": {
    "colab": {
      "provenance": []
    },
    "kernelspec": {
      "display_name": "Python 3",
      "language": "python",
      "name": "python3"
    },
    "language_info": {
      "codemirror_mode": {
        "name": "ipython",
        "version": 3
      },
      "file_extension": ".py",
      "mimetype": "text/x-python",
      "name": "python",
      "nbconvert_exporter": "python",
      "pygments_lexer": "ipython3",
      "version": "3.5.5"
    }
  },
  "nbformat": 4,
  "nbformat_minor": 0
}