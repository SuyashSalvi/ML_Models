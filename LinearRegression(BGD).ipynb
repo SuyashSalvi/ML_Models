{
  "nbformat": 4,
  "nbformat_minor": 0,
  "metadata": {
    "colab": {
      "provenance": []
    },
    "language_info": {
      "codemirror_mode": {
        "name": "ipython",
        "version": 3
      },
      "file_extension": ".py",
      "mimetype": "text/x-python",
      "name": "python",
      "nbconvert_exporter": "python",
      "pygments_lexer": "ipython3",
      "version": "3.5.5"
    },
    "kernelspec": {
      "display_name": "Python 3",
      "language": "python",
      "name": "python3"
    },
    "accelerator": "TPU"
  },
  "cells": [
    {
      "cell_type": "markdown",
      "metadata": {
        "id": "1Yz9bUaJbWGE"
      },
      "source": [
        "# Linear Regression with Batch Gradient Descent\n",
        "\n",
        "You will train your model using a real world dataset.  The dataset contains a collection of real estate listings in San Luis Obispo county.\n",
        "\n",
        "https://wiki.csc.calpoly.edu/datasets/wiki/Houses\n",
        "\n",
        "To make it simpler for this assignment, the dataset has been slightly modified.  It contains the following fields:\n",
        "\n",
        "1.\tMLS: Multiple listing service number for the house (unique ID).\n",
        "2.\tPrice: the most recent listing price of the house (in dollars).\n",
        "3.\tBedrooms: number of bedrooms.\n",
        "4.\tBathrooms: number of bathrooms.\n",
        "5.\tSize: size of the house in square feet.\n",
        "6.\tPrice/SQ.ft: price of the house per square foot.\n",
        "\n",
        "The model predict the housing price given the square footage of the house.\n"
      ]
    },
    {
      "cell_type": "code",
      "metadata": {
        "id": "5rPpln2qbWGG",
        "colab": {
          "base_uri": "https://localhost:8080/",
          "height": 221
        },
        "outputId": "459e82ff-99a9-4ebb-fd18-40e346f3d635"
      },
      "source": [
        "import numpy as np\n",
        "import pandas as pd\n",
        "import numpy.matlib\n",
        "import matplotlib.pyplot as plt\n",
        "from google.colab import drive\n",
        "\n",
        "drive.mount('/content/drive',force_remount=True)\n",
        "\n",
        "# read in the housing price data from a CSV file\n",
        "# and store it as a pandas DataFrame object\n",
        "df = pd.read_csv(\"/content/drive/MyDrive/Colab Notebooks/HW5/housing_price_data.csv\")\n",
        "\n",
        "df.head() # display the first few rows of the DataFrame to check that the data was read in correctly"
      ],
      "execution_count": null,
      "outputs": [
        {
          "output_type": "stream",
          "name": "stdout",
          "text": [
            "Mounted at /content/drive\n"
          ]
        },
        {
          "output_type": "execute_result",
          "data": {
            "text/plain": [
              "     MPLS   Price  Bedrooms  Bathrooms  Size  PriceSq\n",
              "0  132842  795000         3          3  2371   335.30\n",
              "1  134364  399000         4          3  2818   141.59\n",
              "2  135141  545000         4          3  3032   179.75\n",
              "3  135712  909000         4          4  3540   256.78\n",
              "4  136282  109900         3          1  1249    87.99"
            ],
            "text/html": [
              "\n",
              "  <div id=\"df-7df2201a-46be-4774-a273-8fc3ee9f2ddc\" class=\"colab-df-container\">\n",
              "    <div>\n",
              "<style scoped>\n",
              "    .dataframe tbody tr th:only-of-type {\n",
              "        vertical-align: middle;\n",
              "    }\n",
              "\n",
              "    .dataframe tbody tr th {\n",
              "        vertical-align: top;\n",
              "    }\n",
              "\n",
              "    .dataframe thead th {\n",
              "        text-align: right;\n",
              "    }\n",
              "</style>\n",
              "<table border=\"1\" class=\"dataframe\">\n",
              "  <thead>\n",
              "    <tr style=\"text-align: right;\">\n",
              "      <th></th>\n",
              "      <th>MPLS</th>\n",
              "      <th>Price</th>\n",
              "      <th>Bedrooms</th>\n",
              "      <th>Bathrooms</th>\n",
              "      <th>Size</th>\n",
              "      <th>PriceSq</th>\n",
              "    </tr>\n",
              "  </thead>\n",
              "  <tbody>\n",
              "    <tr>\n",
              "      <th>0</th>\n",
              "      <td>132842</td>\n",
              "      <td>795000</td>\n",
              "      <td>3</td>\n",
              "      <td>3</td>\n",
              "      <td>2371</td>\n",
              "      <td>335.30</td>\n",
              "    </tr>\n",
              "    <tr>\n",
              "      <th>1</th>\n",
              "      <td>134364</td>\n",
              "      <td>399000</td>\n",
              "      <td>4</td>\n",
              "      <td>3</td>\n",
              "      <td>2818</td>\n",
              "      <td>141.59</td>\n",
              "    </tr>\n",
              "    <tr>\n",
              "      <th>2</th>\n",
              "      <td>135141</td>\n",
              "      <td>545000</td>\n",
              "      <td>4</td>\n",
              "      <td>3</td>\n",
              "      <td>3032</td>\n",
              "      <td>179.75</td>\n",
              "    </tr>\n",
              "    <tr>\n",
              "      <th>3</th>\n",
              "      <td>135712</td>\n",
              "      <td>909000</td>\n",
              "      <td>4</td>\n",
              "      <td>4</td>\n",
              "      <td>3540</td>\n",
              "      <td>256.78</td>\n",
              "    </tr>\n",
              "    <tr>\n",
              "      <th>4</th>\n",
              "      <td>136282</td>\n",
              "      <td>109900</td>\n",
              "      <td>3</td>\n",
              "      <td>1</td>\n",
              "      <td>1249</td>\n",
              "      <td>87.99</td>\n",
              "    </tr>\n",
              "  </tbody>\n",
              "</table>\n",
              "</div>\n",
              "    <div class=\"colab-df-buttons\">\n",
              "\n",
              "  <div class=\"colab-df-container\">\n",
              "    <button class=\"colab-df-convert\" onclick=\"convertToInteractive('df-7df2201a-46be-4774-a273-8fc3ee9f2ddc')\"\n",
              "            title=\"Convert this dataframe to an interactive table.\"\n",
              "            style=\"display:none;\">\n",
              "\n",
              "  <svg xmlns=\"http://www.w3.org/2000/svg\" height=\"24px\" viewBox=\"0 -960 960 960\">\n",
              "    <path d=\"M120-120v-720h720v720H120Zm60-500h600v-160H180v160Zm220 220h160v-160H400v160Zm0 220h160v-160H400v160ZM180-400h160v-160H180v160Zm440 0h160v-160H620v160ZM180-180h160v-160H180v160Zm440 0h160v-160H620v160Z\"/>\n",
              "  </svg>\n",
              "    </button>\n",
              "\n",
              "  <style>\n",
              "    .colab-df-container {\n",
              "      display:flex;\n",
              "      gap: 12px;\n",
              "    }\n",
              "\n",
              "    .colab-df-convert {\n",
              "      background-color: #E8F0FE;\n",
              "      border: none;\n",
              "      border-radius: 50%;\n",
              "      cursor: pointer;\n",
              "      display: none;\n",
              "      fill: #1967D2;\n",
              "      height: 32px;\n",
              "      padding: 0 0 0 0;\n",
              "      width: 32px;\n",
              "    }\n",
              "\n",
              "    .colab-df-convert:hover {\n",
              "      background-color: #E2EBFA;\n",
              "      box-shadow: 0px 1px 2px rgba(60, 64, 67, 0.3), 0px 1px 3px 1px rgba(60, 64, 67, 0.15);\n",
              "      fill: #174EA6;\n",
              "    }\n",
              "\n",
              "    .colab-df-buttons div {\n",
              "      margin-bottom: 4px;\n",
              "    }\n",
              "\n",
              "    [theme=dark] .colab-df-convert {\n",
              "      background-color: #3B4455;\n",
              "      fill: #D2E3FC;\n",
              "    }\n",
              "\n",
              "    [theme=dark] .colab-df-convert:hover {\n",
              "      background-color: #434B5C;\n",
              "      box-shadow: 0px 1px 3px 1px rgba(0, 0, 0, 0.15);\n",
              "      filter: drop-shadow(0px 1px 2px rgba(0, 0, 0, 0.3));\n",
              "      fill: #FFFFFF;\n",
              "    }\n",
              "  </style>\n",
              "\n",
              "    <script>\n",
              "      const buttonEl =\n",
              "        document.querySelector('#df-7df2201a-46be-4774-a273-8fc3ee9f2ddc button.colab-df-convert');\n",
              "      buttonEl.style.display =\n",
              "        google.colab.kernel.accessAllowed ? 'block' : 'none';\n",
              "\n",
              "      async function convertToInteractive(key) {\n",
              "        const element = document.querySelector('#df-7df2201a-46be-4774-a273-8fc3ee9f2ddc');\n",
              "        const dataTable =\n",
              "          await google.colab.kernel.invokeFunction('convertToInteractive',\n",
              "                                                    [key], {});\n",
              "        if (!dataTable) return;\n",
              "\n",
              "        const docLinkHtml = 'Like what you see? Visit the ' +\n",
              "          '<a target=\"_blank\" href=https://colab.research.google.com/notebooks/data_table.ipynb>data table notebook</a>'\n",
              "          + ' to learn more about interactive tables.';\n",
              "        element.innerHTML = '';\n",
              "        dataTable['output_type'] = 'display_data';\n",
              "        await google.colab.output.renderOutput(dataTable, element);\n",
              "        const docLink = document.createElement('div');\n",
              "        docLink.innerHTML = docLinkHtml;\n",
              "        element.appendChild(docLink);\n",
              "      }\n",
              "    </script>\n",
              "  </div>\n",
              "\n",
              "\n",
              "<div id=\"df-591e6c07-d9af-4395-9271-383da34f83c7\">\n",
              "  <button class=\"colab-df-quickchart\" onclick=\"quickchart('df-591e6c07-d9af-4395-9271-383da34f83c7')\"\n",
              "            title=\"Suggest charts\"\n",
              "            style=\"display:none;\">\n",
              "\n",
              "<svg xmlns=\"http://www.w3.org/2000/svg\" height=\"24px\"viewBox=\"0 0 24 24\"\n",
              "     width=\"24px\">\n",
              "    <g>\n",
              "        <path d=\"M19 3H5c-1.1 0-2 .9-2 2v14c0 1.1.9 2 2 2h14c1.1 0 2-.9 2-2V5c0-1.1-.9-2-2-2zM9 17H7v-7h2v7zm4 0h-2V7h2v10zm4 0h-2v-4h2v4z\"/>\n",
              "    </g>\n",
              "</svg>\n",
              "  </button>\n",
              "\n",
              "<style>\n",
              "  .colab-df-quickchart {\n",
              "      --bg-color: #E8F0FE;\n",
              "      --fill-color: #1967D2;\n",
              "      --hover-bg-color: #E2EBFA;\n",
              "      --hover-fill-color: #174EA6;\n",
              "      --disabled-fill-color: #AAA;\n",
              "      --disabled-bg-color: #DDD;\n",
              "  }\n",
              "\n",
              "  [theme=dark] .colab-df-quickchart {\n",
              "      --bg-color: #3B4455;\n",
              "      --fill-color: #D2E3FC;\n",
              "      --hover-bg-color: #434B5C;\n",
              "      --hover-fill-color: #FFFFFF;\n",
              "      --disabled-bg-color: #3B4455;\n",
              "      --disabled-fill-color: #666;\n",
              "  }\n",
              "\n",
              "  .colab-df-quickchart {\n",
              "    background-color: var(--bg-color);\n",
              "    border: none;\n",
              "    border-radius: 50%;\n",
              "    cursor: pointer;\n",
              "    display: none;\n",
              "    fill: var(--fill-color);\n",
              "    height: 32px;\n",
              "    padding: 0;\n",
              "    width: 32px;\n",
              "  }\n",
              "\n",
              "  .colab-df-quickchart:hover {\n",
              "    background-color: var(--hover-bg-color);\n",
              "    box-shadow: 0 1px 2px rgba(60, 64, 67, 0.3), 0 1px 3px 1px rgba(60, 64, 67, 0.15);\n",
              "    fill: var(--button-hover-fill-color);\n",
              "  }\n",
              "\n",
              "  .colab-df-quickchart-complete:disabled,\n",
              "  .colab-df-quickchart-complete:disabled:hover {\n",
              "    background-color: var(--disabled-bg-color);\n",
              "    fill: var(--disabled-fill-color);\n",
              "    box-shadow: none;\n",
              "  }\n",
              "\n",
              "  .colab-df-spinner {\n",
              "    border: 2px solid var(--fill-color);\n",
              "    border-color: transparent;\n",
              "    border-bottom-color: var(--fill-color);\n",
              "    animation:\n",
              "      spin 1s steps(1) infinite;\n",
              "  }\n",
              "\n",
              "  @keyframes spin {\n",
              "    0% {\n",
              "      border-color: transparent;\n",
              "      border-bottom-color: var(--fill-color);\n",
              "      border-left-color: var(--fill-color);\n",
              "    }\n",
              "    20% {\n",
              "      border-color: transparent;\n",
              "      border-left-color: var(--fill-color);\n",
              "      border-top-color: var(--fill-color);\n",
              "    }\n",
              "    30% {\n",
              "      border-color: transparent;\n",
              "      border-left-color: var(--fill-color);\n",
              "      border-top-color: var(--fill-color);\n",
              "      border-right-color: var(--fill-color);\n",
              "    }\n",
              "    40% {\n",
              "      border-color: transparent;\n",
              "      border-right-color: var(--fill-color);\n",
              "      border-top-color: var(--fill-color);\n",
              "    }\n",
              "    60% {\n",
              "      border-color: transparent;\n",
              "      border-right-color: var(--fill-color);\n",
              "    }\n",
              "    80% {\n",
              "      border-color: transparent;\n",
              "      border-right-color: var(--fill-color);\n",
              "      border-bottom-color: var(--fill-color);\n",
              "    }\n",
              "    90% {\n",
              "      border-color: transparent;\n",
              "      border-bottom-color: var(--fill-color);\n",
              "    }\n",
              "  }\n",
              "</style>\n",
              "\n",
              "  <script>\n",
              "    async function quickchart(key) {\n",
              "      const quickchartButtonEl =\n",
              "        document.querySelector('#' + key + ' button');\n",
              "      quickchartButtonEl.disabled = true;  // To prevent multiple clicks.\n",
              "      quickchartButtonEl.classList.add('colab-df-spinner');\n",
              "      try {\n",
              "        const charts = await google.colab.kernel.invokeFunction(\n",
              "            'suggestCharts', [key], {});\n",
              "      } catch (error) {\n",
              "        console.error('Error during call to suggestCharts:', error);\n",
              "      }\n",
              "      quickchartButtonEl.classList.remove('colab-df-spinner');\n",
              "      quickchartButtonEl.classList.add('colab-df-quickchart-complete');\n",
              "    }\n",
              "    (() => {\n",
              "      let quickchartButtonEl =\n",
              "        document.querySelector('#df-591e6c07-d9af-4395-9271-383da34f83c7 button');\n",
              "      quickchartButtonEl.style.display =\n",
              "        google.colab.kernel.accessAllowed ? 'block' : 'none';\n",
              "    })();\n",
              "  </script>\n",
              "</div>\n",
              "    </div>\n",
              "  </div>\n"
            ],
            "application/vnd.google.colaboratory.intrinsic+json": {
              "type": "dataframe",
              "variable_name": "df",
              "summary": "{\n  \"name\": \"df\",\n  \"rows\": 781,\n  \"fields\": [\n    {\n      \"column\": \"MPLS\",\n      \"properties\": {\n        \"dtype\": \"number\",\n        \"std\": 3936,\n        \"min\": 132842,\n        \"max\": 154580,\n        \"samples\": [\n          154223,\n          154171,\n          153915\n        ],\n        \"num_unique_values\": 779,\n        \"semantic_type\": \"\",\n        \"description\": \"\"\n      }\n    },\n    {\n      \"column\": \"Price\",\n      \"properties\": {\n        \"dtype\": \"number\",\n        \"std\": 349038,\n        \"min\": 26500,\n        \"max\": 5499000,\n        \"samples\": [\n          879000,\n          650000,\n          199000\n        ],\n        \"num_unique_values\": 381,\n        \"semantic_type\": \"\",\n        \"description\": \"\"\n      }\n    },\n    {\n      \"column\": \"Bedrooms\",\n      \"properties\": {\n        \"dtype\": \"number\",\n        \"std\": 0,\n        \"min\": 0,\n        \"max\": 10,\n        \"samples\": [\n          6,\n          4,\n          5\n        ],\n        \"num_unique_values\": 9,\n        \"semantic_type\": \"\",\n        \"description\": \"\"\n      }\n    },\n    {\n      \"column\": \"Bathrooms\",\n      \"properties\": {\n        \"dtype\": \"number\",\n        \"std\": 0,\n        \"min\": 1,\n        \"max\": 11,\n        \"samples\": [\n          4,\n          7,\n          3\n        ],\n        \"num_unique_values\": 8,\n        \"semantic_type\": \"\",\n        \"description\": \"\"\n      }\n    },\n    {\n      \"column\": \"Size\",\n      \"properties\": {\n        \"dtype\": \"number\",\n        \"std\": 819,\n        \"min\": 120,\n        \"max\": 6800,\n        \"samples\": [\n          1462,\n          1338,\n          1603\n        ],\n        \"num_unique_values\": 527,\n        \"semantic_type\": \"\",\n        \"description\": \"\"\n      }\n    },\n    {\n      \"column\": \"PriceSq\",\n      \"properties\": {\n        \"dtype\": \"number\",\n        \"std\": 115.08214597649899,\n        \"min\": 19.33,\n        \"max\": 1144.64,\n        \"samples\": [\n          151.12,\n          355.73,\n          216.09\n        ],\n        \"num_unique_values\": 740,\n        \"semantic_type\": \"\",\n        \"description\": \"\"\n      }\n    }\n  ]\n}"
            }
          },
          "metadata": {},
          "execution_count": 18
        }
      ]
    },
    {
      "cell_type": "code",
      "metadata": {
        "scrolled": true,
        "id": "aRqF_u8NbWGM",
        "colab": {
          "base_uri": "https://localhost:8080/",
          "height": 465
        },
        "outputId": "2d48d0e9-4802-47c6-e9eb-a8a4c20e8c52"
      },
      "source": [
        "# Plot data points\n",
        "X, y = (df[\"Size\"].values,df[\"Price\"].values)  # extract the Size and Price columns from the DataFrame\n",
        "                                             # and store them as separate NumPy arrays\n",
        "X = X.reshape(len(X),1)  # reshape the Size array into a 2D array with a single column\n",
        "y = y.reshape(len(y),1)  # reshape the Price array into a 2D array with a single column\n",
        "\n",
        "# plots the data points\n",
        "plt.plot(X, y, 'ro')  # plot the data points as red circles\n",
        "plt.xlabel(\"# Square footage\")  # set the x-axis label\n",
        "plt.ylabel(\"Price\")  # set the y-axis label\n",
        "plt.show()  # display the plot"
      ],
      "execution_count": null,
      "outputs": [
        {
          "output_type": "display_data",
          "data": {
            "text/plain": [
              "<Figure size 640x480 with 1 Axes>"
            ],
            "image/png": "[encoded data removed]"
          },
          "metadata": {}
        }
      ]
    },
    {
      "cell_type": "code",
      "metadata": {
        "id": "ROuUVItqbWGR",
        "colab": {
          "base_uri": "https://localhost:8080/"
        },
        "outputId": "56a9fcc5-60f4-4793-ed31-1a2c42c7e351"
      },
      "source": [
        "max_min = X.max(0) - X.min(0)  # calculate the difference between the maximum and minimum values of X\n",
        "                               # for each column (i.e., for each feature)\n",
        "Xmin = X.min(0)  # calculate the minimum value of X for each column\n",
        "X = (X-Xmin) / max_min  # subtract the minimum value from each element of X and divide the result\n",
        "                        # by the range (i.e., the difference between the maximum and minimum values)\n",
        "                        # to normalize the data to a range of [0, 1]\n",
        "\n",
        "# Add bias\n",
        "z=np.ones((len(X),1))  # create a column vector of ones with the same number of rows as X\n",
        "                       # to use as the bias term\n",
        "X = X.reshape(len(X),1)  # reshape X into a 2D array with a single column\n",
        "X = np.concatenate((z,X), axis=1)  # concatenate the column vector of ones with the normalized X values\n",
        "                                    # along the column axis to create the final feature matrix\n",
        "y = y.reshape(len(X),1)  # reshape y into a 2D array with a single column\n",
        "\n",
        "# sort for testing/plotting\n",
        "Xsort = np.sort(X, axis=0)  # sort the feature matrix in ascending order along the row axis\n",
        "                            # (i.e., sort by the first column, which contains the bias term)\n",
        "\n",
        "print(X.shape)  # print the shape of X to check that it has the expected dimensions\n",
        "print(y.shape)  # print the shape of y to check that it has the expected dimensions\n",
        "\n",
        "# For non-vectorized\n",
        "X_train = X[:,1]  # extract the second column of X (i.e., the normalized house size values)\n",
        "                  # and store it as a separate 1D array\n",
        "y_train = y  # store y as-is\n"
      ],
      "execution_count": null,
      "outputs": [
        {
          "output_type": "stream",
          "name": "stdout",
          "text": [
            "(781, 2)\n",
            "(781, 1)\n"
          ]
        }
      ]
    },
    {
      "cell_type": "markdown",
      "metadata": {
        "id": "nNgLG_ZmbWGW"
      },
      "source": [
        "## Perform gradient descent"
      ]
    },
    {
      "cell_type": "code",
      "metadata": {
        "id": "L2KhyZwzbWGX",
        "colab": {
          "base_uri": "https://localhost:8080/"
        },
        "outputId": "618df685-a38b-4fce-e860-5f910dbe2361"
      },
      "source": [
        "from os import wait3\n",
        "# Initialize vector w\n",
        "np.random.seed(20)\n",
        "w = np.random.rand(2,1)\n",
        "print(w)\n",
        "w0 = w[0]\n",
        "w1 = w[1]\n",
        "\n",
        "# Learning rate\n",
        "alpha = 0.0003\n",
        "\n",
        "# Number of epochs\n",
        "MAX_EPOCHS = 2000\n",
        "\n",
        "# Initalize the sum of sqaured error (SSE) array\n",
        "sse_array = []\n",
        "\n",
        "# Loop for 2000 epochs\n",
        "for itr in range (0, MAX_EPOCHS):\n",
        "    # X_train is 781x1 and y_train is 781x1\n",
        "    X_train = X_train.reshape(781,1)\n",
        "    y_train = y_train.reshape(781,1)\n",
        "\n",
        "\n",
        "    y_hat = np.add(np.multiply(X_train,w1),w0)\n",
        "\n",
        "    dw0 = 2*np.sum(y_hat - y_train)\n",
        "    dw1 = 2*np.sum((y_hat - y_train)*X_train)\n",
        "\n",
        "    w0 = w0 - (alpha * dw0)\n",
        "    w1 = w1 - (alpha * dw1)\n",
        "\n",
        "    sse = np.sum(np.square(y_hat - y_train))\n",
        "\n",
        "    # Store SSE results for the plot\n",
        "    sse_array.append(sse)\n",
        "\n",
        "# If non-vectorized, then need to form w\n",
        "w = np.array([w0,w1])"
      ],
      "execution_count": null,
      "outputs": [
        {
          "output_type": "stream",
          "name": "stdout",
          "text": [
            "[[0.5881308 ]\n",
            " [0.89771373]]\n"
          ]
        }
      ]
    },
    {
      "cell_type": "code",
      "metadata": {
        "id": "L4hBzd0RbWGa",
        "colab": {
          "base_uri": "https://localhost:8080/",
          "height": 465
        },
        "outputId": "42535b5e-3083-4127-ff5d-401d94cddfb8"
      },
      "source": [
        "### Plot sse vs iterations\n",
        "plt.plot(sse_array)  #\n",
        "plt.xlabel(\"Epochs\")\n",
        "plt.ylabel(\"SSE\")\n",
        "plt.show()"
      ],
      "execution_count": null,
      "outputs": [
        {
          "output_type": "display_data",
          "data": {
            "text/plain": [
              "<Figure size 640x480 with 1 Axes>"
            ],
            "image/png": "[encoded data removed]"
          },
          "metadata": {}
        }
      ]
    },
    {
      "cell_type": "code",
      "metadata": {
        "id": "-BsghsXObWGf",
        "colab": {
          "base_uri": "https://localhost:8080/",
          "height": 465
        },
        "outputId": "9af187fd-67e9-42c1-f90e-d0ad72e79407"
      },
      "source": [
        "### Plot the fitted curve\n",
        "\n",
        "# Predict the house prices using the learned model\n",
        "yhat = np.dot(np.sort(X, axis=0),w)\n",
        "# Plot the predicted curve with the learned parameters using Gradient Descent\n",
        "plt.plot(Xsort[:,1] * max_min + Xmin, yhat, 'b', label=\"Gradient descent\")\n",
        "\n",
        "# Plot the original data points\n",
        "plt.plot(X[:,1] * max_min + Xmin, y, 'ro')\n",
        "\n",
        "# Add a legend to the plot\n",
        "plt.legend()\n",
        "\n",
        "# Add labels to the x and y axis\n",
        "plt.xlabel(\"# Square footage\")\n",
        "plt.ylabel(\"Price\")\n",
        "\n",
        "plt.show()"
      ],
      "execution_count": null,
      "outputs": [
        {
          "output_type": "display_data",
          "data": {
            "text/plain": [
              "<Figure size 640x480 with 1 Axes>"
            ],
            "image/png": "[encoded data removed]"
          },
          "metadata": {}
        }
      ]
    },
    {
      "cell_type": "code",
      "metadata": {
        "id": "IKV3TcRBN742",
        "colab": {
          "base_uri": "https://localhost:8080/"
        },
        "outputId": "0d2b2ab8-91da-4d40-cb5a-43c11b38ed6d"
      },
      "source": [
        "### Print the weight vector w\n",
        "print (w)"
      ],
      "execution_count": null,
      "outputs": [
        {
          "output_type": "stream",
          "name": "stdout",
          "text": [
            "[[ -79538.27526362]\n",
            " [1891035.36605185]]\n"
          ]
        }
      ]
    },
    {
      "cell_type": "code",
      "metadata": {
        "id": "Fw2MXmi4bWGl",
        "colab": {
          "base_uri": "https://localhost:8080/"
        },
        "outputId": "c4ddc65f-08c2-46a2-c560-41fefc27e203"
      },
      "source": [
        "size = 4000\n",
        "normalized_size = (size-Xmin) / max_min\n",
        "print(w[0] + (w[1] * normalized_size))\n",
        "\n"
      ],
      "execution_count": null,
      "outputs": [
        {
          "output_type": "stream",
          "name": "stdout",
          "text": [
            "[1018847.53615571]\n"
          ]
        }
      ]
    }
  ]
}