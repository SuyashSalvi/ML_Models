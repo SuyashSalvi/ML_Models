{
  "nbformat": 4,
  "nbformat_minor": 0,
  "metadata": {
    "colab": {
      "provenance": []
    },
    "kernelspec": {
      "name": "python3",
      "display_name": "Python 3"
    },
    "gpuClass": "standard"
  },
  "cells": [
    {
      "cell_type": "markdown",
      "metadata": {
        "id": "ml58PJ9UDwRk"
      },
      "source": [
        "**Principal Component Analysis**\n",
        "\n",
        "You will implement dimensionality reduction with PCA.  \n",
        "\n",
        "1). Read iris_dataset.csv (4 features, hence 4 PCs) and remove the first class\n",
        "\n",
        "2). Find the principal components\n",
        "\n",
        "3). Recontruct the dataset (X_hat)\n",
        "\n",
        "4). Determine the accuracy of X_hat for 1-4 PCs using a LBF SVM classifier (provided)\n"
      ]
    },
    {
      "cell_type": "code",
      "metadata": {
        "id": "b3DA-QxT0O6X"
      },
      "source": [
        "import numpy as np\n",
        "import pandas as pd\n",
        "from numpy import linalg as LA\n",
        "import matplotlib.pyplot as plt\n",
        "from sklearn.svm import SVC # This package will help you run the SVM model directly\n",
        "from sklearn.metrics import accuracy_score # Use accruacy_score to find out accuracy of your model\n",
        "from sklearn.model_selection import train_test_split\n",
        "\n",
        "# from google.colab import drive\n",
        "\n",
        "# drive.mount('/content/drive')\n",
        "\n",
        "file_path = '/content/drive/MyDrive/Colab Notebooks/HW7/iris_dataset.csv'\n",
        "\n",
        "# Load data - 150 observations, 4 features, 3 classes\n",
        "df = pd.read_csv(file_path, header=None)\n",
        "data = df.values\n",
        "\n",
        "# Remove the first class and change the class index\n",
        "X_raw = data[50:,0:4]               # From 150 to 100 samples\n",
        "y = np.subtract(data[50:,4],2)  # From class 2/3 to class 0/1"
      ],
      "execution_count": null,
      "outputs": []
    },
    {
      "cell_type": "markdown",
      "source": [
        "SVM classifier (with 20% of the data as the test sets)"
      ],
      "metadata": {
        "id": "EXUbvn1ze49w"
      }
    },
    {
      "cell_type": "code",
      "source": [
        "def svm_accuracy(X_hat, y, num_pc):\n",
        "    X_train, X_test, y_train, y_test = train_test_split(X_hat, y, test_size=0.2)\n",
        "\n",
        "    clf = SVC(kernel='linear') # Use the linear function of the SVM algorithm\n",
        "    clf.fit(X_train,y_train) # Train the model using the x_train and y_train\n",
        "    y_pred = clf.predict(X_test) # Run prediction after training on the testing dataset\n",
        "    print(num_pc, accuracy_score(y_test,y_pred)) # Print your final accuracy\n",
        "    return accuracy_score(y_test,y_pred)"
      ],
      "metadata": {
        "id": "G6VJ3UXn-X3v"
      },
      "execution_count": null,
      "outputs": []
    },
    {
      "cell_type": "markdown",
      "source": [
        "PCA (Your code goes here)"
      ],
      "metadata": {
        "id": "ceZTciFpe-ZO"
      }
    },
    {
      "cell_type": "code",
      "source": [
        "def PCA(X, Num_PC):\n",
        "\n",
        "  cov = X.T @ X\n",
        "\n",
        "  eigen_values, eigen_vectors = LA.eig(cov)\n",
        "\n",
        "  sorted_index = np.argsort(eigen_values)[::-1]\n",
        "  sorted_eigenvalue = eigen_values[sorted_index]\n",
        "\n",
        "  sorted_eigenvectors = eigen_vectors[sorted_index]\n",
        "\n",
        "  print (sorted_eigenvectors[0])\n",
        "\n",
        "\n",
        "  eigenvector_subset = sorted_eigenvectors[:,0:Num_PC]\n",
        "\n",
        "  X_reduced = np.dot(X, eigenvector_subset)\n",
        "\n",
        "  return X_reduced"
      ],
      "metadata": {
        "id": "Eg7QAhj2y9w4"
      },
      "execution_count": null,
      "outputs": []
    },
    {
      "cell_type": "code",
      "metadata": {
        "id": "O-L8WvJIAKeY",
        "colab": {
          "base_uri": "https://localhost:8080/",
          "height": 1000
        },
        "outputId": "b561e43c-e784-406f-86f2-20059f6d7b0b"
      },
      "source": [
        "u = [np.mean(X_raw[:,0]), np.mean(X_raw[:,1]), np.mean(X_raw[:,2]), np.mean(X_raw[:,3])]\n",
        "XM = np.subtract(X_raw,u)  # Subtracting the mean from each feature\n",
        "\n",
        "\n",
        "X_pca = PCA(XM,2)\n",
        "\n",
        "plt.figure(figsize=(8,6))\n",
        "\n",
        "# Scatter plot for class 0\n",
        "plt.scatter(X_pca[0:50,0], X_pca[0:50,1], color='green', marker='o', label='0')\n",
        "\n",
        "# Scatter plot for class 1\n",
        "plt.scatter(X_pca[50:100,0], X_pca[50:100,1], color='blue', marker='s', label='1')\n",
        "\n",
        "plt.title(\"PCA components plot for IRIS Dataset\", fontsize=14)\n",
        "plt.legend()\n",
        "plt.show()\n",
        "\n",
        "avg_accuracy_list = []\n",
        "\n",
        "for i in range(4):\n",
        "  num_pc = i+1\n",
        "  X_hat = PCA(XM,num_pc)\n",
        "  avg_accuracy = 0\n",
        "  for r in range(10):\n",
        "    avg_accuracy += svm_accuracy(X_hat, y, num_pc)\n",
        "  avg_accuracy_list.append(avg_accuracy/10)\n",
        "  print(\"Average accuracy\", avg_accuracy/10)"
      ],
      "execution_count": null,
      "outputs": [
        {
          "output_type": "stream",
          "name": "stdout",
          "text": [
            "[0.55651978 0.3387169  0.75862976 0.00612235]\n"
          ]
        },
        {
          "output_type": "display_data",
          "data": {
            "text/plain": [
              "<Figure size 800x600 with 1 Axes>"
            ],
            "image/png": "[encoded data removed]"
          },
          "metadata": {}
        },
        {
          "output_type": "stream",
          "name": "stdout",
          "text": [
            "[0.55651978 0.3387169  0.75862976 0.00612235]\n",
            "1 0.85\n",
            "1 0.75\n",
            "1 0.7\n",
            "1 0.85\n",
            "1 0.75\n",
            "1 0.5\n",
            "1 0.7\n",
            "1 0.7\n",
            "1 0.65\n",
            "1 0.8\n",
            "Average accuracy 0.7250000000000001\n",
            "[0.55651978 0.3387169  0.75862976 0.00612235]\n",
            "2 0.8\n",
            "2 0.8\n",
            "2 0.65\n",
            "2 0.75\n",
            "2 0.95\n",
            "2 0.65\n",
            "2 0.85\n",
            "2 0.7\n",
            "2 0.95\n",
            "2 0.85\n",
            "Average accuracy 0.795\n",
            "[0.55651978 0.3387169  0.75862976 0.00612235]\n",
            "3 0.9\n",
            "3 0.95\n",
            "3 0.8\n",
            "3 0.85\n",
            "3 0.95\n",
            "3 0.95\n",
            "3 0.8\n",
            "3 1.0\n",
            "3 0.85\n",
            "3 0.85\n",
            "Average accuracy 0.89\n",
            "[0.55651978 0.3387169  0.75862976 0.00612235]\n",
            "4 1.0\n",
            "4 0.95\n",
            "4 1.0\n",
            "4 0.95\n",
            "4 1.0\n",
            "4 0.95\n",
            "4 0.85\n",
            "4 0.95\n",
            "4 0.95\n",
            "4 0.95\n",
            "Average accuracy 0.9549999999999998\n"
          ]
        }
      ]
    },
    {
      "cell_type": "code",
      "source": [
        "import matplotlib.pyplot as plt\n",
        "\n",
        "categories = ['PC1', 'PC2', 'PC3', '4']\n",
        "\n",
        "plt.bar(categories, avg_accuracy_list, color='blue')\n",
        "plt.xlabel('Categories')\n",
        "plt.ylabel('Values')\n",
        "\n",
        "for i, value in enumerate(avg_accuracy_list):\n",
        "    plt.text(i, value + 0.02 , str(round(value*100)))\n",
        "\n",
        "plt.show()"
      ],
      "metadata": {
        "id": "_GTmGMHe_3yK",
        "colab": {
          "base_uri": "https://localhost:8080/",
          "height": 454
        },
        "outputId": "b8fce1e1-1bba-4b83-e1e6-db180c944d0b"
      },
      "execution_count": null,
      "outputs": [
        {
          "output_type": "display_data",
          "data": {
            "text/plain": [
              "<Figure size 640x480 with 1 Axes>"
            ],
            "image/png": "[encoded data removed]"
          },
          "metadata": {}
        }
      ]
    },
    {
      "cell_type": "code",
      "source": [],
      "metadata": {
        "id": "P8TSk2q4F7OX"
      },
      "execution_count": null,
      "outputs": []
    }
  ]
}